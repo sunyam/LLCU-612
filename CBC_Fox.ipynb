{
 "cells": [
  {
   "cell_type": "markdown",
   "metadata": {},
   "source": [
    "## Extracting headlines of Fox News and CBC:"
   ]
  },
  {
   "cell_type": "code",
   "execution_count": 1,
   "metadata": {
    "collapsed": true
   },
   "outputs": [],
   "source": [
    "from urllib import request\n",
    "from bs4 import BeautifulSoup"
   ]
  },
  {
   "cell_type": "markdown",
   "metadata": {},
   "source": [
    "### Fox News:"
   ]
  },
  {
   "cell_type": "code",
   "execution_count": 2,
   "metadata": {},
   "outputs": [],
   "source": [
    "html = request.urlopen('https://www.foxnews.com/').read()\n",
    "\n",
    "soup = BeautifulSoup(html)\n",
    "# print(soup.prettify())"
   ]
  },
  {
   "cell_type": "code",
   "execution_count": 3,
   "metadata": {},
   "outputs": [
    {
     "name": "stdout",
     "output_type": "stream",
     "text": [
      "['WATCH: Trump has latest on shutdown', 'WATCH: Republican National Committee winter meeting', 'Pink fires back after post on Covington students', \"FAA lifts partial ground stop at New York's LaGuardia\", \"Viral 'chicken soda' girl tries other odd food combinations\", 'Judge releases Roger Stone on $250,000 bond', 'Alexander the Great had neurological disorder', \"Rhonda Rousey gets animated in 'Mortal Kombat 11'\", 'Trump on Stone: Greatest witch hunt in history of country', 'Rep. Elissa Slotkin urges practical solutions for border', 'Threatening letters sent to residents in Calif. community', 'Faith leaders outraged at new NY abortion law', \"Ex-Trump adviser blasts 'politically motivated' Mueller indictment, says he 'will never' turn on Trump\", 'TUCKER CARLSON: What no one will say about Dems and security', 'Trump to make announcement on partial government shutdown', 'HORRIFYING PICS: Photos show how British sailor sank boat to kill wife', 'Oldest known Earth rock found in extremely unlikely place', 'WATCH: Trump has latest on shutdown', 'WATCH: Republican National Committee winter meeting', 'Pink fires back after post on Covington students', \"FAA lifts partial ground stop at New York's LaGuardia\", \"Viral 'chicken soda' girl tries other odd food combinations\", 'Judge releases Roger Stone on $250,000 bond', 'Alexander the Great had neurological disorder', \"Rhonda Rousey gets animated in 'Mortal Kombat 11'\", 'Trump on Stone: Greatest witch hunt in history of country', '\\nRep. Elissa Slotkin urges practical solutions for border', 'Threatening letters sent to residents in Calif. community', 'Faith leaders outraged at new NY abortion law', 'Boy wins science fair for ‘proving’ NFL star Tom Brady cheated', \"Meghan, Kate end feud after Britain’s next king says, 'Enough'\", 'Woman bitten by angry snake while using toilet', \"Freshman rep faces backlash after claiming Trump backs Venezuela 'coup'\", 'Tourist plane and helicopter crash above glacier, killing at least 5', 'University student accused of stabbing classmate to death', 'Drug dealer who faked novichok poisoning jailed in absentia for 11 years', 'Remains of notable explorer found at London train station', \"Maroon 5 may be the band to give into 'SpongeBob' fans during the Super Bowl\", 'Nurse accused of impregnating woman in vegetative state was Christian rapper', 'Body of ex-champion surfer washes up on shore, police say', \"Ex-NFL player's son found dead in apparent suicide\", \"Indiana bill would put 'In God We Trust,' religious studies in public schools\", 'Texas brewery giving away free beer during shutdown', 'Kilmeade talks to Texans about shutdown ahead of Fox News town hall', 'WATCH NOW: Are there limits on emergency powers?', 'STREAMING NOW: Rush Limbaugh reflects on who influenced him', 'Imagine if Alexandria Ocasio-Cortez were a conservative', 'Hey, AOC, Sanders, socialism has been a disaster. What say you?', 'Socialism is not the answer', 'We want to solve the border crisis and Dems need to work with us', \"Trump fighting battle for nation. What's Pelosi fighting for?\", \"Liberals have new plan to save unions - the left's cash cow\", 'Heroic dog guides ambulance to save unconscious owner', \"NYT reporter slammed for seeking 'oppo research' on Christian schools\", 'NC boy, 3, who vanished from yard, found tangled in shrubs in frigid temps', 'Trump to make announcement on partial government shutdown from Rose Garden', \"FBI's show of force in Roger Stone arrest spurs criticism of Mueller tactics\", \"\\nHow Roger Stone is connected to Trump and other things to know about the 'trickster' political consultant\", 'Paul Manafort could be charged with more crimes down the road, prosecutor tells judge', 'Roger Stone vows to fight charges in Mueller probe, calls indictment ‘politically motivated’', 'Rep. Ilhan Omar faces backlash after claiming Trump is backing ‘coup’ in Venezuela', 'Radford University student accused of stabbing classmate to death', 'Border Patrol agent working without pay pulls suicidal man off bridge', 'Texas cop playing video game stops teenager allegedly threatening shooting at former high school', 'Nathan Sutherland, nurse accused of impregnating incapacitated woman at Arizona facility, was Christian rapper', \"Suspect ID'd in ‘targeted’ Georgia shootings that killed 4, manhunt underway\", \"Baby survived by 'grace of God' after parents died of carbon monoxide poisoning, police say\", 'Drug dealer who faked novichok poisoning in Salisbury is jailed in absentia for 11 years', 'Lost remains of explorer credited with naming Australia discovered near London railway station', 'Tourist plane and helicopter crash above glacier in Italian Alps, killing at least five', \"\\nSpanish officials hope to reach toddler trapped in well for two weeks 'by today'\", 'New photos show how British sailor killed American wife on honeymoon by sinking their catamaran', 'Australian woman bitten by 5-foot snake while on the toilet', 'Holocaust Remembrance Day: From the Babel to Sinai', 'Democrats beware: Ever-growing field of 2020 contenders could be too much of a good thing', 'Marc Thiessen: Imagine if Alexandria Ocasio-Cortez were a conservative', 'Rep. Mark Green: We want to solve the border crisis – Dems need to stop aiming for 2020, work with us', \"\\nSean Hannity: Trump is fighting a battle of life and death for the nation. What's Nancy Pelosi fighting for?\", \"Loads of American workers are dropping out of unions – Now liberals have a new plan to save left's cash cow\", 'JPMorgan donates $1 million to help government workers after Ross comments', \"Zuckerberg: Facebook users can't control how data is used for security\", 'More women in workforce can bolster stock market, economy', 'Trump is not in the position to improve US-Russia relations: VTB Bank chairman', 'At Davos, CEOs divided about recession outlook in 2019', 'Venezuelan oil sanctions could hit your wallet', 'Disneyland’s new ‘Star Wars’ Ride may be 28 minutes long', \"\\nIt's Blue Monday -- How can we keep our kids from feeling hopeless today and all year long?\", 'Are Tim Tebow and Demi-Leigh Nel-Peters really ready for marriage? Here are 6 questions I ask every couple', 'The most powerful thing you can do for your kids', \"The secret Clemson's Trevor Lawrence knows (and that should be shared with you, too)\", \"Is 'Fortnite' making its finale?\", 'Patton Oswalt responded to an online troll by donating to his GoFundMe for medical expenses\\n', \"Maroon 5 may be the band to give into 'SpongeBob' fans during the Super Bowl\", '\\nJennifer Lopez unveils her flat abs after embarking on ‘no sugar, no carbs’ challenge', \"Country singer Russell Dickerson on 'God moment' filming music video with wife that sparked his career\", 'Pink fires back at online harassers following post about Covington Catholic school students', \"Jennifer Lawrence's ex Nicholas Hoult says the former couple are like ‘family’\", \"President Trump reacts to Roger Stone's arrest: Greatest witch hunt in the history of our country\", 'California teens lucky to be alive after surviving nearly 24 hours stranded in the High Sierra', 'Rep. Elissa Slotkin urges practical solutions to border security', \"Stars of FOX's 'Rent' say award-winning musical's message is as relevant as ever\", 'White House says Roger Stone charges have nothing to do with President Trump', \"Rhonda Rousey gets animated in 'Mortal Kombat 11'\", \"\\nEx-NFL player's son, a University of Montana defensive lineman, found dead in apparent suicide\", \"Kentucky boy, 10, wins science fair project after 'proving' New England Patriots QB Tom Brady is a ‘cheater’\", 'Body of Chris Brown, former champion surfer, found washed up on California shore, police say', \"Ex-NFL star Chad Johnson: I saw Roger Stone's arrest\", 'Joe Montana makes investment in California marijuana company', 'NBA champion Warriors snub Trump, meet with Obama during DC visit', 'Navy’s stealthy Columbia subs set to launch first patrol in 2031, with a new missile variant', 'Future Apple Watches may detect poisonous gas', 'Facebook wants to integrate Messenger, WhatsApp, Instagram', \"Stormy Daniels' Twitter handle briefly vanishes\", '\\nHotel fires robot staff after guest complaints', \"Meet Scout, Amazon's delivery robot that aims to help solve the last-mile problem\", \"Country singer Russell Dickerson on 'God moment' filming music video with wife that sparked his career\", 'Holocaust Remembrance Day: From the Babel to Sinai', 'Carrie Underwood, Mike Fisher say newborn is ‘gift from the Lord,’ give him biblical name', \"Baby survived by 'grace of God' after parents died of carbon monoxide poisoning, police say\", 'New York Times reporter slammed for seeking ‘opposition research’ on Christian schools', 'Notre Dame president defends covering Columbus murals', 'Treasure trove of Indian motorcycles found in scrapyard sold for small fortune', 'Ford settles lawsuit over $1.8 million supercar auction', 'Double-amputee Alex Zanardi ready for Daytona 24 hour race', 'Ford is working on a compact pickup, company executive confirms', \"Drag racing great Courtney Force announces she is 'stepping away' from driving\", 'Apple lays off 200 from its autonomous car project, report says', 'Minnesota wildlife officials shoot mule deer exhibiting ‘strange behavior’', 'Alaska fisherman attacked by sea lion, nearly dragged into water', 'Australian woman bitten by 5-foot snake while on the toilet', \"South Carolina fisherman hooks massive great white shark: 'It's like hooking an elephant'\", \"Bow hunter's 'deer of a lifetime' sets new world record\", 'Need a mood boost? Just 5 minutes in nature will increase happiness, study finds', 'Texas brewery giving away free beer during shutdown', \"Viral 'Chicken Soda' star tries pairing chicken with other strange 'dips'\", 'Gordon Ramsay curses up a storm while eating spicy chicken wings in online interview', 'Rosé shortage looming for summer 2019 as government shutdown continues: report', \"Pizza Hut 'changes' its name for Super Bowl LIII\", \"\\nMcDonald’s franchise owners rally against plans to build kitchen wall, call remodel 'problematic'\", \"George Washington's 'illustrious' hair goes up for auction\", \"Flipped-over American flag set right after sharp-eyed Missouri cop, an Air Force vet, gets firefighters' help\", 'Artist’s American flag wall made from 7,700 pennies', 'Florida woman knitting American flag to honor veterans for their service', \"Army vet's Trump T-shirt made fellow gym patrons feel 'uncomfortable,' report says\", 'UPS driver rescues dog from icy Montana pond mid-route', 'Most expensive home in US – dubbed ‘billionaires’ bunker’ – purchased for $238 million', \"Marie Kondo's Netflix show inspires viewers to 'tidy up': 3 popular organizing tips\", 'Homes in Sicily are selling for $1', 'Buying a home? Watch out for these 7 red flags in the neighborhood', 'Foreclosed home of late MLB great Tony Gwynn has squatter living inside: report', 'Horrified man discovers dozens of large cockroaches hiding inside wall-mounted landline', \"Woman dubbed Germany’s 'hottest cop' breaks up with longtime boyfriend\", 'Need a mood boost? Just 5 minutes in nature will increase happiness, study finds', 'Experts weigh in on celery juice diet craze: ‘It’s an elaborate lie’', \"Jillian Michaels calls out Andy Cohen, Al Roker over keto diet feud: 'Why don't we behave like adults'\", 'Bigorexia: When bodybuilding goes too far', \"Jillian Michaels slams the keto diet: 'Bad plan for a million reasons'\", 'Matt Damon borrowed a suit for Davos speech after Swiss Air reportedly lost his luggage', \"Woman dubbed Germany’s 'hottest cop' breaks up with longtime boyfriend\", \"Anna Wintour reveals her thoughts on Meghan Markle's wedding look\", \"Chanel debuts 'wedding dress'-inspired swimsuit during Paris Fashion Week\", \"'Self-centered' Instagram model sentenced to 7 months community service for selling illegal snakeskin fashion items\", 'State lawmaker wants a school dress code for parents: ‘You’d be surprised at some of the stuff we see’', '6 New Mexico high school students hospitalized after vaping scare', 'Heroic dog guides ambulance to save his unconscious owner', 'Toxic Chemicals Contaminate Cape', 'Why are so many women dying from drug overdoses?', \"\\nWoman shares cervical cancer story to warn others told they're too young for free pap smear\", 'Twins once joined at the head are thriving one year after separation surgery', 'Wells Fargo debuts new logo, campaign after scandals', \"The outlook for Ohio's medical cannabis market after rocky first week of sales\", '3 smart things to do with $1,000', 'What women cannot ignore about retirement', 'Best and worst places to live if you want to pay down debt', 'Venezuelan oil sanctions could hit your wallet', 'Border Patrol agent working without pay pulls suicidal man off bridge', 'Artist’s American flag wall made from 7,700 pennies', 'South Carolina boy befriends officer at Chick-fil-A', \"Ohio pastor gives gift of life to stranger to show 'reckless love for Jesus'\", 'California couple, dogs trapped in mountains by snow survive two-week ordeal', \"North Carolina kids leave heartwarming note on deputy dad's patrol car\", 'Fox News @ Night – Thursday, January 24', 'Hannity – Thursday, January 24', 'The Ingraham Angle – Thursday, January 24', 'Tucker Carlson Tonight – Thursday, January 24', 'The Five - Thursday, January 24', 'Outnumbered - Thursday, January 24', \"\\nFlipped-over American flag set right after sharp-eyed Missouri cop, an Air Force vet, gets firefighters' help\", 'Tunnel to Towers raises funds to pay off the mortgage of US Navy Chief Cryptologic Technician Shannon Kent', \"Army vet's Trump T-shirt made fellow gym patrons feel 'uncomfortable,' report says\", 'Funeral for Vietnam War vet, 77, who died alone, draws hundreds of mourners', 'Memorial honoring fallen Navy SEAL, Medal of Honor recipient is restored following vandalism', \"Military couple's surprise reunion in Texas caught on camera\", 'Ocasio-Cortez, Warren tax plans annihilate middle class: Fmr. Bain Capital managing director', 'Taxing wealthy Americans impedes economic growth, raises deficit: Larry Kudlow', 'Taxing the wealthy, increasing domestic spending favored by voters: Fox News Poll', 'Elizabeth Warren planning wealth tax on America’s rich', 'Millennial tax returns: A profile of young filers', \"Tax season tips: Don't let thieves steal your refund\", \"Country singer Russell Dickerson on 'God moment' filming music video with wife that sparked his career\", '\\nNicole Kidman, Keith Urban pack on the PDA at Australian Open', \"Carrie Underwood, Mike Fisher welcome baby boy: 'Our hearts are full'\", \"Carly Pearce fires back at body-shamer on social media: 'Think before you speak'\", 'Maxine Brown Russell of country trio The Browns dead at 87', \"Shania Twain admits to still getting starstruck, being 'awkward' with Madonna\", 'Radford University student accused of stabbing classmate to death', 'Texas cop playing video game stops teenager allegedly threatening shooting at former high school', 'New photos show how British sailor killed American wife on honeymoon by sinking their catamaran', 'Nathan Sutherland, nurse accused of impregnating incapacitated woman at Arizona facility, was Christian rapper', \"Suspect ID'd in ‘targeted’ Georgia shootings that killed 4, manhunt underway\", 'Gunman at large after Georgia shootings kill 4, injures 1: police', '\\nMinnesota wildlife officials shoot mule deer exhibiting ‘strange behavior’', 'Primark customer finds human bone inside pair of store socks, police say', '\\nTractor-trailer crash in Indiana causes oranges to spill across highway', \"Company sells $80 used tissues so people can 'choose' when to get sick\", \"\\nBritish police rescue 'hungry gerbil' after owner is jailed\", 'Wisconsin man chops up belongings with ax after he thought wife damaged his action figures, police say']\n"
     ]
    }
   ],
   "source": [
    "fox_headlines = []\n",
    "for headline in soup.find_all('h2', {'class':'title'}):\n",
    "    fox_headlines.append(headline.text)\n",
    "    \n",
    "print(fox_headlines)"
   ]
  },
  {
   "cell_type": "markdown",
   "metadata": {},
   "source": [
    "### CBC:"
   ]
  },
  {
   "cell_type": "code",
   "execution_count": 4,
   "metadata": {},
   "outputs": [],
   "source": [
    "html = request.urlopen('https://www.cbc.ca/').read()\n",
    "\n",
    "soup = BeautifulSoup(html)\n",
    "# print(soup.prettify())"
   ]
  },
  {
   "cell_type": "code",
   "execution_count": 5,
   "metadata": {},
   "outputs": [
    {
     "name": "stdout",
     "output_type": "stream",
     "text": [
      "['RCMP charge Kingston, Ont., youth with terror-related offence after security probe', 'FIFA bans former referee for life for bribery, match-fixing ', 'Giant Indigenous Peoples Atlas floor map will change the way you see Canada', \"We're making our fresh water salty by massively changing the landscape\", \"Why Canada endorsed Venezuela's opposition leader Juan Guaido\", 'China envoy McCallum walks back comments on Meng Wanzhou case', \"My mother didn't raise me 'Canadian' — and now I know why\", 'Trump expected to back short-term government funding bill ', 'RCMP charge Kingston, Ont., youth with terror-related offence after security probe', 'Trump ally Roger Stone vows to contest charges from special counsel probe', \"Trump's greatest shutdown challenge, thy name is 'Nancy'\", 'RCMP charge Kingston youth with terror-related offence', \"Visitors line up for Centre Block's farewell tour\", \"'It's not reasonable': Ottawa teachers dismayed over move to revisit class sizes\", 'Choir director who worked in Ottawa wanted for sexual assault', 'The long, complicated history of Baby Shark — and the artist fighting for credit', 'Clash of the titans: Djokovic to face Nadal for Australian Open title ', \"Understanding Venezuela's political crisis\", \"'Always a way to go around': Border walls create insecurity, not remove it, says expert\", 'Experts on how winter cyclists can stay safe on the roads', 'NHL all-star game should be replaced — not tinkered with', 'B.C. students send letters to Oxford telling dictionary to bring back lost nature words ', \"'I didn't think I would play in the NHL': How Elias Pettersson became an all-star\", 'Repeated pain makes men more sensitive — but not women', 'Woman learns names of 3 Canadian soldiers who saved her life during WWII', \"'We're getting taken advantage of': Oilers season ticket holders fed up as team flounders\", 'Like Star Wars, but with giant penises: This Canadian film is awakening an uncut force at Sundance', 'This Canadian scientist is pioneering a way to grow food on Mars', \"'It keeps getting bigger & bigger': B.C.'s serious money laundering problem\", \"Welsh town hopes to steal world's steepest street record from New Zealand \", \"'The kids aren't yours': Barwin sperm mix-up sheds light on 'broken' fertility industry\"]\n"
     ]
    }
   ],
   "source": [
    "cbc_headlines = []\n",
    "for headline in soup.find_all('h3', {'class':'headline'}):\n",
    "    cbc_headlines.append(headline.text)\n",
    "    \n",
    "print(cbc_headlines)"
   ]
  }
 ],
 "metadata": {
  "kernelspec": {
   "display_name": "Python [conda env:py37]",
   "language": "python",
   "name": "conda-env-py37-py"
  },
  "language_info": {
   "codemirror_mode": {
    "name": "ipython",
    "version": 3
   },
   "file_extension": ".py",
   "mimetype": "text/x-python",
   "name": "python",
   "nbconvert_exporter": "python",
   "pygments_lexer": "ipython3",
   "version": "3.7.2"
  }
 },
 "nbformat": 4,
 "nbformat_minor": 2
}
