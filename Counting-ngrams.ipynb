{
 "cells": [
  {
   "cell_type": "markdown",
   "metadata": {},
   "source": [
    "## Find the top <i>k</i> bigrams and trigrams in Jane Austen's <i>Emma</i>:\n",
    "- I do it using two approaches:\n",
    "    - NLTK's collocations module\n",
    "    - Manually without using NLTK; using collections.Counter"
   ]
  },
  {
   "cell_type": "code",
   "execution_count": 1,
   "metadata": {},
   "outputs": [
    {
     "name": "stdout",
     "output_type": "stream",
     "text": [
      "['Emma', 'by', 'Jane', 'Austen', 'VOLUME', 'I', 'CHAPTER', 'I', 'Emma', 'Woodhouse', 'handsome', 'clever', 'and', 'rich', 'with', 'a', 'comfortable', 'home', 'and', 'happy', 'disposition', 'seemed', 'to', 'unite', 'some']\n"
     ]
    }
   ],
   "source": [
    "# Imports:\n",
    "import nltk\n",
    "from nltk.collocations import *\n",
    "from collections import Counter\n",
    "\n",
    "# Load corpus from nltk:\n",
    "emma = nltk.corpus.gutenberg.words('austen-emma.txt')\n",
    "clean_emma = [] # cleaning the text to only include words\n",
    "for w in emma:\n",
    "    if w[0].isalpha():\n",
    "        clean_emma.append(w)\n",
    "print(clean_emma[:25]) # preview\n",
    "        \n",
    "# Set the value of k:\n",
    "k = 10"
   ]
  },
  {
   "cell_type": "markdown",
   "metadata": {},
   "source": [
    "### Using NLTK:"
   ]
  },
  {
   "cell_type": "code",
   "execution_count": 2,
   "metadata": {
    "collapsed": true
   },
   "outputs": [],
   "source": [
    "bigram_measures = nltk.collocations.BigramAssocMeasures() # creates an instance\n",
    "trigram_measures = nltk.collocations.TrigramAssocMeasures()"
   ]
  },
  {
   "cell_type": "code",
   "execution_count": 3,
   "metadata": {},
   "outputs": [
    {
     "name": "stdout",
     "output_type": "stream",
     "text": [
      "Top 10 bigrams:\n",
      "[('to', 'be'), ('of', 'the'), ('in', 'the'), ('I', 'am'), ('had', 'been'), ('Mr', 'Knightley'), ('it', 'was'), ('I', 'have'), ('could', 'not'), ('of', 'her')]\n"
     ]
    }
   ],
   "source": [
    "# Finds top k bigrams\n",
    "finder = BigramCollocationFinder.from_words(clean_emma)\n",
    "top_bigrams = finder.nbest(bigram_measures.raw_freq, k) # Uses the raw frequency (there are other options like PMI etc)\n",
    "print(\"Top {} bigrams:\\n{}\".format(k, top_bigrams))"
   ]
  },
  {
   "cell_type": "code",
   "execution_count": 4,
   "metadata": {},
   "outputs": [
    {
     "name": "stdout",
     "output_type": "stream",
     "text": [
      "Top 10 trigrams:\n",
      "[('I', 'do', 'not'), ('I', 'am', 'sure'), ('a', 'great', 'deal'), ('would', 'have', 'been'), ('do', 'not', 'know'), ('she', 'could', 'not'), ('I', 'dare', 'say'), ('Mr', 'Frank', 'Churchill'), ('in', 'the', 'world'), ('I', 'assure', 'you')]\n"
     ]
    }
   ],
   "source": [
    "# Finds top k trigrams\n",
    "finder = TrigramCollocationFinder.from_words(clean_emma)\n",
    "top_trigrams = finder.nbest(trigram_measures.raw_freq, k)\n",
    "print(\"Top {} trigrams:\\n{}\".format(k, top_trigrams))"
   ]
  },
  {
   "cell_type": "markdown",
   "metadata": {},
   "source": [
    "### Without using NLTK:"
   ]
  },
  {
   "cell_type": "code",
   "execution_count": 5,
   "metadata": {},
   "outputs": [],
   "source": [
    "# Helper functions:\n",
    "\n",
    "def find_bigrams(words):\n",
    "    \"\"\"\n",
    "    Takes in a list of words as input; Returns a list of bigrams.\n",
    "    \"\"\"\n",
    "    bigram_list = []\n",
    "    for i in range(len(words)-1): # loop till len - 1 to avoid IndexError\n",
    "        bigram_list.append((words[i], words[i+1]))\n",
    "    return bigram_list\n",
    "\n",
    "def find_trigrams(words):\n",
    "    \"\"\"\n",
    "    Takes in a list of words as input; Returns a list of trigrams.\n",
    "    \"\"\"\n",
    "    trigram_list = []\n",
    "    for i in range(len(words)-2): # loop till len - 2 to avoid IndexError\n",
    "        trigram_list.append((words[i], words[i+1], words[i+2]))\n",
    "    return trigram_list"
   ]
  },
  {
   "cell_type": "code",
   "execution_count": 6,
   "metadata": {},
   "outputs": [
    {
     "name": "stdout",
     "output_type": "stream",
     "text": [
      "Top 10 bigrams with counts:\n",
      "[(('to', 'be'), 595), (('of', 'the'), 557), (('in', 'the'), 434), (('I', 'am'), 395), (('had', 'been'), 308), (('Mr', 'Knightley'), 299), (('it', 'was'), 288), (('I', 'have'), 281), (('could', 'not'), 277), (('of', 'her'), 262)]\n"
     ]
    }
   ],
   "source": [
    "# Finds top k bigrams:\n",
    "bigrams = find_bigrams(clean_emma)\n",
    "top_bigrams = Counter(bigrams).most_common(k) # calling most_common() of the Counter object\n",
    "print(\"Top {} bigrams with counts:\\n{}\".format(k, top_bigrams))"
   ]
  },
  {
   "cell_type": "code",
   "execution_count": 7,
   "metadata": {},
   "outputs": [
    {
     "name": "stdout",
     "output_type": "stream",
     "text": [
      "Top 10 trigrams with counts:\n",
      "[(('I', 'do', 'not'), 135), (('I', 'am', 'sure'), 109), (('a', 'great', 'deal'), 63), (('would', 'have', 'been'), 60), (('do', 'not', 'know'), 55), (('she', 'could', 'not'), 52), (('I', 'dare', 'say'), 50), (('Mr', 'Frank', 'Churchill'), 50), (('in', 'the', 'world'), 49), (('I', 'assure', 'you'), 47)]\n"
     ]
    }
   ],
   "source": [
    "# Finds top k trigrams:\n",
    "trigrams = find_trigrams(clean_emma)\n",
    "top_trigrams = Counter(trigrams).most_common(k)\n",
    "print(\"Top {} trigrams with counts:\\n{}\".format(k, top_trigrams))"
   ]
  },
  {
   "cell_type": "markdown",
   "metadata": {},
   "source": [
    "- Phew! The results from both approaches are identical (nltk.collocations works!)\n",
    "- An interesting next step would be to use these bigrams/trigrams to train a language model. Using that language model trained on this text and perhaps additional texts, make the computer write Emma 2.0!\n",
    "\n",
    "## fin."
   ]
  }
 ],
 "metadata": {
  "kernelspec": {
   "display_name": "Python [conda env:py37]",
   "language": "python",
   "name": "conda-env-py37-py"
  },
  "language_info": {
   "codemirror_mode": {
    "name": "ipython",
    "version": 3
   },
   "file_extension": ".py",
   "mimetype": "text/x-python",
   "name": "python",
   "nbconvert_exporter": "python",
   "pygments_lexer": "ipython3",
   "version": "3.7.2"
  }
 },
 "nbformat": 4,
 "nbformat_minor": 2
}
