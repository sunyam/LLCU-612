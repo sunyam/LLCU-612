{
 "cells": [
  {
   "cell_type": "markdown",
   "metadata": {},
   "source": [
    "## Mini-assignment 2: Out Out Damn Speaker!\n",
    "- This notebook does the following:\n",
    "    - Loads the plain text version of <i>Macbeth</i> on Project Gutenberg.\n",
    "    - Isolates the speeches only; removes any stage directions and other indications.\n",
    "    - Further removes the speaker names."
   ]
  },
  {
   "cell_type": "code",
   "execution_count": 1,
   "metadata": {
    "collapsed": true
   },
   "outputs": [],
   "source": [
    "# Imports:\n",
    "from urllib import request\n",
    "from bs4 import BeautifulSoup\n",
    "import re"
   ]
  },
  {
   "cell_type": "code",
   "execution_count": 2,
   "metadata": {},
   "outputs": [
    {
     "name": "stdout",
     "output_type": "stream",
     "text": [
      "Project Gutenberg Etext of Macbeth by Shakespeare\r\n",
      "PG has multiple editions of William Shakespeare's\n"
     ]
    }
   ],
   "source": [
    "# Function to extract the content from the given URL:\n",
    "def extract(url):\n",
    "    resp = request.urlopen(url).read() # reads the webpage HTML\n",
    "    html = BeautifulSoup(resp)\n",
    "    script = html.find('body').text # extracts the text from the <body> tag\n",
    "    return script\n",
    "\n",
    "# Macbeth URL:\n",
    "url = \"http://www.gutenberg.org/cache/epub/1533/pg1533.txt\"\n",
    "script = extract(url)\n",
    "print(script[:100]) # print preview"
   ]
  },
  {
   "cell_type": "markdown",
   "metadata": {},
   "source": [
    "## Part 1: Isolate only speeches in the play (not stage directions or other indications)\n",
    "\n",
    "NOTE: I get rid of the Gutenberg Intro and Conclusion in the loop."
   ]
  },
  {
   "cell_type": "code",
   "execution_count": 3,
   "metadata": {
    "collapsed": true
   },
   "outputs": [],
   "source": [
    "inp = script.split('\\n') # Split on newline; returns a list\n",
    "exp1 = r'^(SCENE.*|ACT.*|\\[.*|.*\\])$' # regex for non-speech lines\n",
    "\n",
    "flag = False # flag variable I use to get rid of the Gutenberg intro\n",
    "\n",
    "speeches = [] # list to store actual speeches\n",
    "\n",
    "for line in inp[:-5]: # -5 to get rid of the last lines (which is the Gutenberg conclusion; not speeches)\n",
    "    if 'FIRST WITCH.' in line: # this is where the first line of the script begins.\n",
    "        flag = True\n",
    "        \n",
    "    if flag: # Ignores everything before \"FIRST WITCH.\" because flag=False\n",
    "        if not re.match(exp1, line): # filtering any stage directions/other indications\n",
    "            speeches.append(line) # Add to the speeches"
   ]
  },
  {
   "cell_type": "code",
   "execution_count": 4,
   "metadata": {},
   "outputs": [
    {
     "name": "stdout",
     "output_type": "stream",
     "text": [
      "['FIRST WITCH.\\r', 'When shall we three meet again?\\r', 'In thunder, lightning, or in rain?\\r', '\\r', 'SECOND WITCH.\\r', \"When the hurlyburly's done,\\r\", \"When the battle's lost and won.\\r\", '\\r', 'THIRD WITCH.\\r', 'That will be ere the set of sun.\\r', '\\r', 'FIRST WITCH.\\r', 'Where the place?\\r', '\\r', 'SECOND WITCH.\\r', 'Upon the heath.\\r', '\\r', 'THIRD WITCH.\\r', 'There to meet with Macbeth.\\r', '\\r', 'FIRST WITCH.\\r', 'I come, Graymalkin!\\r', '\\r', 'ALL.\\r', 'Paddock calls:--anon:--\\r', 'Fair is foul, and foul is fair:\\r', 'Hover through the fog and filthy air.\\r', '\\r', '\\r', '\\r', '\\r', '\\r', 'with Attendants, meeting a bleeding Soldier.]\\r', '\\r', 'DUNCAN.\\r', 'What bloody man is that? He can report,\\r', 'As seemeth by his plight, of the revolt\\r', 'The newest state.\\r', '\\r', 'MALCOLM.\\r', 'This is the sergeant\\r', 'Who, like a good and hardy soldier, fought\\r', \"'Gainst my captivity.--Hail, brave friend!\\r\", 'Say to the king the knowledge of the broil\\r', 'As thou didst leave it.\\r', '\\r', 'SOLDIER.\\r', 'Doubtful it stood;\\r', 'As two spent swimmers that do cling together\\r', 'And choke their art. The merciless Macdonwald,--\\r']\n",
      "['\\r', 'SIWARD.\\r', \"Why then, God's soldier be he!\\r\", 'Had I as many sons as I have hairs,\\r', 'I would not wish them to a fairer death:\\r', \"And, so his knell is knoll'd.\\r\", '\\r', 'MALCOLM.\\r', \"He's worth more sorrow,\\r\", \"And that I'll spend for him.\\r\", '\\r', 'SIWARD.\\r', \"He's worth no more:\\r\", 'They say he parted well, and paid his score:\\r', 'And so, God be with him!--Here comes newer comfort.\\r', '\\r', '\\r', 'MACDUFF.\\r', 'Hail, king, for so thou art: behold, where stands\\r', \"The usurper's cursed head: the time is free:\\r\", \"I see thee compass'd with thy kingdom's pearl\\r\", 'That speak my salutation in their minds;\\r', 'Whose voices I desire aloud with mine,--\\r', 'Hail, King of Scotland!\\r', '\\r', 'ALL.\\r', 'Hail, King of Scotland!\\r', '\\r', '\\r', 'MALCOLM.\\r', 'We shall not spend a large expense of time\\r', 'Before we reckon with your several loves,\\r', 'And make us even with you. My thanes and kinsmen,\\r', 'Henceforth be earls, the first that ever Scotland\\r', \"In such an honour nam'd. What's more to do,\\r\", 'Which would be planted newly with the time,--\\r', \"As calling home our exil'd friends abroad,\\r\", 'That fled the snares of watchful tyranny;\\r', 'Producing forth the cruel ministers\\r', 'Of this dead butcher, and his fiend-like queen,--\\r', \"Who, as 'tis thought, by self and violent hands\\r\", 'Took off her life;--this, and what needful else\\r', 'That calls upon us, by the grace of Grace,\\r', 'We will perform in measure, time, and place:\\r', 'So, thanks to all at once, and to each one,\\r', \"Whom we invite to see us crown'd at Scone.\\r\", '\\r', '\\r', '\\r', '\\r']\n"
     ]
    }
   ],
   "source": [
    "# Previewing the first and last 50 lines only, but it works!\n",
    "print(speeches[:50])\n",
    "print(speeches[-50:])"
   ]
  },
  {
   "cell_type": "markdown",
   "metadata": {},
   "source": [
    "## Part 2: Removing speaker names"
   ]
  },
  {
   "cell_type": "code",
   "execution_count": 5,
   "metadata": {
    "collapsed": true
   },
   "outputs": [],
   "source": [
    "exp2 = r'^[A-Z]*\\s?[A-Z]*\\.\\r$' # regex for speaker names\n",
    "\n",
    "speaker_names = []\n",
    "\n",
    "final_speeches = []\n",
    "\n",
    "# Iterating through the speeches^\n",
    "for speech in speeches:\n",
    "    if re.match(exp2, speech): # removes speaker names\n",
    "        speaker_names.append(speech.strip()) # strips the '\\r' character at the end\n",
    "    else:\n",
    "        if speech != '\\r' and speech != '': # removes empty lines\n",
    "            final_speeches.append(speech)"
   ]
  },
  {
   "cell_type": "code",
   "execution_count": 6,
   "metadata": {},
   "outputs": [
    {
     "name": "stdout",
     "output_type": "stream",
     "text": [
      "{'MENTEITH.', 'SERVANT.', 'CAITHNESS.', 'BANQUO.', 'SOLDIER.', 'BOTH MURDERERS.', 'FIRST WITCH.', 'PORTER.', 'ROSS.', 'ATTENDANT.', 'ALL.', 'LADY MACDUFF.', 'MESSENGER.', 'MACDUFF.', 'OLD MAN.', 'SIWARD.', 'LORD.', 'HECATE.', 'SON.', 'GENTLEWOMAN.', 'ANGUS.', 'DUNCAN.', 'SOLDIERS.', 'LORDS.', 'APPARITION.', 'LENNOX.', 'SECOND WITCH.', 'FLEANCE.', 'THIRD MURDERER.', 'YOUNG SIWARD.', 'MACBETH.', 'MALCOLM.', 'LADY MACBETH.', 'SEYTON.', 'DOCTOR.', 'FIRST MURDERER.', 'THIRD WITCH.', 'SECOND MURDERER.', 'MURDERER.', 'DONALBAIN.'}\n"
     ]
    }
   ],
   "source": [
    "print(set(speaker_names))"
   ]
  },
  {
   "cell_type": "code",
   "execution_count": 7,
   "metadata": {},
   "outputs": [
    {
     "name": "stdout",
     "output_type": "stream",
     "text": [
      "['When shall we three meet again?\\r', 'In thunder, lightning, or in rain?\\r', \"When the hurlyburly's done,\\r\", \"When the battle's lost and won.\\r\", 'That will be ere the set of sun.\\r', 'Where the place?\\r', 'Upon the heath.\\r', 'There to meet with Macbeth.\\r', 'I come, Graymalkin!\\r', 'Paddock calls:--anon:--\\r', 'Fair is foul, and foul is fair:\\r', 'Hover through the fog and filthy air.\\r', 'with Attendants, meeting a bleeding Soldier.]\\r', 'What bloody man is that? He can report,\\r', 'As seemeth by his plight, of the revolt\\r', 'The newest state.\\r', 'This is the sergeant\\r', 'Who, like a good and hardy soldier, fought\\r', \"'Gainst my captivity.--Hail, brave friend!\\r\", 'Say to the king the knowledge of the broil\\r', 'As thou didst leave it.\\r', 'Doubtful it stood;\\r', 'As two spent swimmers that do cling together\\r', 'And choke their art. The merciless Macdonwald,--\\r', 'Worthy to be a rebel,--for to that\\r', 'The multiplying villainies of nature\\r', 'Do swarm upon him,--from the Western isles\\r', 'Of kerns and gallowglasses is supplied;\\r', 'And fortune, on his damned quarrel smiling,\\r', \"Show'd like a rebel's whore. But all's too weak;\\r\", 'For brave Macbeth,--well he deserves that name,--\\r', \"Disdaining fortune, with his brandish'd steel,\\r\", \"Which smok'd with bloody execution,\\r\", \"Like valor's minion,\\r\", \"Carv'd out his passag tTill he fac'd the slave;\\r\", \"And ne'er shook hands, nor bade farewell to him,\\r\", \"Till he unseam'd him from the nave to the chaps,\\r\", \"And fix'd his head upon our battlements.\\r\", 'O valiant cousin! worthy gentleman!\\r', \"As whence the sun 'gins his reflection\\r\", 'Shipwrecking storms and direful thunders break;\\r', \"So from that spring, whence comfort seem'd to come\\r\", 'Discomfort swells. Mark, King of Scotland, mark:\\r', \"No sooner justice had, with valor arm'd,\\r\", \"Compell'd these skipping kerns to trust their heels,\\r\", 'But the Norweyan lord, surveying vantage,\\r', \"With furbish'd arms and new supplies of men,\\r\", 'Began a fresh assault.\\r', \"Dismay'd not this\\r\", 'Our captains, Macbeth and Banquo?\\r']\n",
      "['I throw my warlike shield: lay on, Macduff;\\r', 'And damn\\'d be him that first cries, \"Hold, enough!\"\\r', 'Siward, Ross, Lennox, Angus, Caithness, Menteith, and Soldiers.\\r', \"I would the friends we miss were safe arriv'd.\\r\", 'Some must go off; and yet, by these I see,\\r', 'So great a day as this is cheaply bought.\\r', 'Macduff is missing, and your noble son.\\r', \"Your son, my lord, has paid a soldier's debt:\\r\", \"He only liv'd but till he was a man;\\r\", \"The which no sooner had his prowess confirm'd\\r\", 'In the unshrinking station where he fought,\\r', 'But like a man he died.\\r', 'Then he is dead?\\r', 'Ay, and brought off the field: your cause of sorrow\\r', \"Must not be measur'd by his worth, for then\\r\", 'It hath no end.\\r', 'Had he his hurts before?\\r', 'Ay, on the front.\\r', \"Why then, God's soldier be he!\\r\", 'Had I as many sons as I have hairs,\\r', 'I would not wish them to a fairer death:\\r', \"And, so his knell is knoll'd.\\r\", \"He's worth more sorrow,\\r\", \"And that I'll spend for him.\\r\", \"He's worth no more:\\r\", 'They say he parted well, and paid his score:\\r', 'And so, God be with him!--Here comes newer comfort.\\r', 'Hail, king, for so thou art: behold, where stands\\r', \"The usurper's cursed head: the time is free:\\r\", \"I see thee compass'd with thy kingdom's pearl\\r\", 'That speak my salutation in their minds;\\r', 'Whose voices I desire aloud with mine,--\\r', 'Hail, King of Scotland!\\r', 'Hail, King of Scotland!\\r', 'We shall not spend a large expense of time\\r', 'Before we reckon with your several loves,\\r', 'And make us even with you. My thanes and kinsmen,\\r', 'Henceforth be earls, the first that ever Scotland\\r', \"In such an honour nam'd. What's more to do,\\r\", 'Which would be planted newly with the time,--\\r', \"As calling home our exil'd friends abroad,\\r\", 'That fled the snares of watchful tyranny;\\r', 'Producing forth the cruel ministers\\r', 'Of this dead butcher, and his fiend-like queen,--\\r', \"Who, as 'tis thought, by self and violent hands\\r\", 'Took off her life;--this, and what needful else\\r', 'That calls upon us, by the grace of Grace,\\r', 'We will perform in measure, time, and place:\\r', 'So, thanks to all at once, and to each one,\\r', \"Whom we invite to see us crown'd at Scone.\\r\"]\n"
     ]
    }
   ],
   "source": [
    "# Previewing the first and last 50 lines only, but it works!\n",
    "print(final_speeches[:50])\n",
    "print(final_speeches[-50:])"
   ]
  },
  {
   "cell_type": "markdown",
   "metadata": {},
   "source": [
    "## fin."
   ]
  }
 ],
 "metadata": {
  "kernelspec": {
   "display_name": "Python [conda env:py37]",
   "language": "python",
   "name": "conda-env-py37-py"
  },
  "language_info": {
   "codemirror_mode": {
    "name": "ipython",
    "version": 3
   },
   "file_extension": ".py",
   "mimetype": "text/x-python",
   "name": "python",
   "nbconvert_exporter": "python",
   "pygments_lexer": "ipython3",
   "version": "3.7.2"
  }
 },
 "nbformat": 4,
 "nbformat_minor": 2
}
