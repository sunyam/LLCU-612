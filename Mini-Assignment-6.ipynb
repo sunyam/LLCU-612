{
 "cells": [
  {
   "cell_type": "code",
   "execution_count": 1,
   "metadata": {},
   "outputs": [
    {
     "data": {
      "text/html": [
       "<div>\n",
       "<style scoped>\n",
       "    .dataframe tbody tr th:only-of-type {\n",
       "        vertical-align: middle;\n",
       "    }\n",
       "\n",
       "    .dataframe tbody tr th {\n",
       "        vertical-align: top;\n",
       "    }\n",
       "\n",
       "    .dataframe thead th {\n",
       "        text-align: right;\n",
       "    }\n",
       "</style>\n",
       "<table border=\"1\" class=\"dataframe\">\n",
       "  <thead>\n",
       "    <tr style=\"text-align: right;\">\n",
       "      <th></th>\n",
       "      <th>id_str</th>\n",
       "      <th>from_user</th>\n",
       "      <th>text</th>\n",
       "      <th>created_at</th>\n",
       "      <th>time</th>\n",
       "      <th>geo_coordinates</th>\n",
       "      <th>user_lang</th>\n",
       "      <th>in_reply_to_user_id_str</th>\n",
       "      <th>in_reply_to_screen_name</th>\n",
       "      <th>from_user_id_str</th>\n",
       "      <th>in_reply_to_status_id_str</th>\n",
       "      <th>source</th>\n",
       "      <th>profile_image_url</th>\n",
       "      <th>user_followers_count</th>\n",
       "      <th>user_friends_count</th>\n",
       "      <th>user_location</th>\n",
       "      <th>status_url</th>\n",
       "      <th>entities_str</th>\n",
       "    </tr>\n",
       "  </thead>\n",
       "  <tbody>\n",
       "    <tr>\n",
       "      <th>0</th>\n",
       "      <td>1.102720e+18</td>\n",
       "      <td>darleneclarke5</td>\n",
       "      <td>RT @ezralevant: Abdul Habash, a Syrian migrant...</td>\n",
       "      <td>Mon Mar 04 23:59:47 +0000 2019</td>\n",
       "      <td>04/03/2019 23:59:47</td>\n",
       "      <td>NaN</td>\n",
       "      <td>en</td>\n",
       "      <td>NaN</td>\n",
       "      <td>NaN</td>\n",
       "      <td>5.642576e+08</td>\n",
       "      <td>NaN</td>\n",
       "      <td>&lt;a href=\"http://twitter.com\" rel=\"nofollow\"&gt;Tw...</td>\n",
       "      <td>http://abs.twimg.com/sticky/default_profile_im...</td>\n",
       "      <td>197</td>\n",
       "      <td>579.0</td>\n",
       "      <td>NaN</td>\n",
       "      <td>http://twitter.com/darleneclarke5/statuses/110...</td>\n",
       "      <td>{\"hashtags\":[],\"symbols\":[],\"user_mentions\":[{...</td>\n",
       "    </tr>\n",
       "    <tr>\n",
       "      <th>1</th>\n",
       "      <td>1.102720e+18</td>\n",
       "      <td>BlueelvisEric</td>\n",
       "      <td>RT @1776Stonewall: https://t.co/CyucESMlFM  Te...</td>\n",
       "      <td>Mon Mar 04 23:59:40 +0000 2019</td>\n",
       "      <td>04/03/2019 23:59:40</td>\n",
       "      <td>NaN</td>\n",
       "      <td>en</td>\n",
       "      <td>NaN</td>\n",
       "      <td>NaN</td>\n",
       "      <td>3.109106e+09</td>\n",
       "      <td>NaN</td>\n",
       "      <td>&lt;a href=\"http://twitter.com/download/android\" ...</td>\n",
       "      <td>http://pbs.twimg.com/profile_images/1062099415...</td>\n",
       "      <td>940</td>\n",
       "      <td>225.0</td>\n",
       "      <td>top your momma</td>\n",
       "      <td>http://twitter.com/BlueelvisEric/statuses/1102...</td>\n",
       "      <td>{\"hashtags\":[],\"symbols\":[],\"user_mentions\":[{...</td>\n",
       "    </tr>\n",
       "  </tbody>\n",
       "</table>\n",
       "</div>"
      ],
      "text/plain": [
       "         id_str       from_user  \\\n",
       "0  1.102720e+18  darleneclarke5   \n",
       "1  1.102720e+18   BlueelvisEric   \n",
       "\n",
       "                                                text  \\\n",
       "0  RT @ezralevant: Abdul Habash, a Syrian migrant...   \n",
       "1  RT @1776Stonewall: https://t.co/CyucESMlFM  Te...   \n",
       "\n",
       "                       created_at                 time geo_coordinates  \\\n",
       "0  Mon Mar 04 23:59:47 +0000 2019  04/03/2019 23:59:47             NaN   \n",
       "1  Mon Mar 04 23:59:40 +0000 2019  04/03/2019 23:59:40             NaN   \n",
       "\n",
       "  user_lang  in_reply_to_user_id_str in_reply_to_screen_name  \\\n",
       "0        en                      NaN                     NaN   \n",
       "1        en                      NaN                     NaN   \n",
       "\n",
       "   from_user_id_str  in_reply_to_status_id_str  \\\n",
       "0      5.642576e+08                        NaN   \n",
       "1      3.109106e+09                        NaN   \n",
       "\n",
       "                                              source  \\\n",
       "0  <a href=\"http://twitter.com\" rel=\"nofollow\">Tw...   \n",
       "1  <a href=\"http://twitter.com/download/android\" ...   \n",
       "\n",
       "                                   profile_image_url  user_followers_count  \\\n",
       "0  http://abs.twimg.com/sticky/default_profile_im...                   197   \n",
       "1  http://pbs.twimg.com/profile_images/1062099415...                   940   \n",
       "\n",
       "   user_friends_count   user_location  \\\n",
       "0               579.0             NaN   \n",
       "1               225.0  top your momma   \n",
       "\n",
       "                                          status_url  \\\n",
       "0  http://twitter.com/darleneclarke5/statuses/110...   \n",
       "1  http://twitter.com/BlueelvisEric/statuses/1102...   \n",
       "\n",
       "                                        entities_str  \n",
       "0  {\"hashtags\":[],\"symbols\":[],\"user_mentions\":[{...  \n",
       "1  {\"hashtags\":[],\"symbols\":[],\"user_mentions\":[{...  "
      ]
     },
     "execution_count": 1,
     "metadata": {},
     "output_type": "execute_result"
    }
   ],
   "source": [
    "# Imports:\n",
    "import pandas as pd\n",
    "\n",
    "from collections import Counter\n",
    "\n",
    "from nltk.tokenize import word_tokenize\n",
    "from nltk.probability import FreqDist\n",
    "from nltk.corpus import stopwords\n",
    "\n",
    "import matplotlib.pyplot as plt\n",
    "%matplotlib inline\n",
    "\n",
    "# Load and preview DataFrame\n",
    "df = pd.read_csv('../Final-Project/20190313_TW_Migrant-Migration.csv')\n",
    "df.head(2)"
   ]
  },
  {
   "cell_type": "markdown",
   "metadata": {},
   "source": [
    "# Section 1:\n",
    "Note: Completed as a team (with Alayne)"
   ]
  },
  {
   "cell_type": "markdown",
   "metadata": {
    "collapsed": true
   },
   "source": [
    "- Our dataset includes 123,524 tweets containing the terms \"migrant\" or \"migration\" along with associated metadata, collected from the period January 21 to March 4, 2019.\n",
    "- The data were collected via the Twitter Archiving Google Sheet (TAGS), which interfaces with the Twitter search API. Note that the Twitter search API does not provide all tweets matching the search criteria for the given time period and may reflect some biases. For example, González-Bailón et al., 2014 report that the Twitter search API over-represents central users and under-represents peripheral activity.\n",
    "- For each observation (i.e, tweet), data is provided on 15 variables: 9 that provide information about the author of the tweet and 6 that provide information about the tweet:\n",
    "    - In addition to the text of the tweet, the variables indicate tweet ID, tweet time and date, tweet components (e.g., hashtags, user mentions, links), tweet URL, tweet method (e.g., HTML indicating whether author tweeted via web app, phone, Facebook), tweet geographical coordinates (if available), author screen name and ID, author location (from profile), author follower count (users following the author), author friend count (users the author follows), author profile picture (URL), ID of the original author (if tweet is a reply) and ID of the original tweet (if tweet is a reply).\n",
    "- Variables to be constructed include sentiment score for the tweet and other metrics derived from text of the tweets, which contain in total 2,351,687 word tokens. The tweet corpus will require processing and cleaning. For example, a few variables will be dropped because of missing or duplicate data and several of the categorical variables will be recoded into fewer levels. Much of this work has been done, with summary statistics and early text analyses are available at https://github.com/menyalas/llcu612Project.\n",
    "- Remaining challenges include recoding author location data, stripping time information from the date/time variable, comparing author language to the language of the tweet itself. The most imporant challenge of course is to be able to reliably calculate sentiment score.\n",
    "- If time permits, we could also possibly add a network measure (mention network or retweet network).\n",
    "- As a brief overview, the language of the tweets and their authors is by and large English and the country of residence of majority authors is the United States. The 123,524 tweets emanate from 88,304 unique authors, include 97,185 retweets and refer to 10,729 unique hashtags. About 60% of all tweets are issued via a smartphone.\n",
    "\n",
    "*References*:\n",
    "González-Bailón et al. (2014)Assessing the bias in samples of large online networks. Social Networks, 38. Retrieved March 25, 2019 at https://doi.org/10.1016/j.socnet.2014.01.004"
   ]
  },
  {
   "cell_type": "markdown",
   "metadata": {},
   "source": [
    "# Section 2:"
   ]
  },
  {
   "cell_type": "markdown",
   "metadata": {},
   "source": [
    "- For this section, I first write all of the tweets in our dataset to a .txt. Then, I uploaded it to Voyant."
   ]
  },
  {
   "cell_type": "code",
   "execution_count": 2,
   "metadata": {
    "collapsed": true
   },
   "outputs": [],
   "source": [
    "with open('./tweets_text.txt', 'w') as f:\n",
    "    for tweet in df['text'].tolist(): # loop through all the tweets\n",
    "        f.write(tweet) # write to txt\n",
    "        f.write('\\n')"
   ]
  },
  {
   "cell_type": "code",
   "execution_count": 3,
   "metadata": {},
   "outputs": [
    {
     "data": {
      "text/html": [
       "\n",
       "        <iframe\n",
       "            width=\"300\"\n",
       "            height=\"300\"\n",
       "            src=\"//voyant-tools.org/tool/CollocatesGraph/?stopList=keywords-c9ca6955f1b8688e84744b153908b15f&query=migrant&query=migration&query=border&mode=corpus&corpus=1a52cb2a7564573e7811be2fcab33171\"\n",
       "            frameborder=\"0\"\n",
       "            allowfullscreen\n",
       "        ></iframe>\n",
       "        "
      ],
      "text/plain": [
       "<IPython.lib.display.IFrame at 0x1a202940b8>"
      ]
     },
     "execution_count": 3,
     "metadata": {},
     "output_type": "execute_result"
    }
   ],
   "source": [
    "from IPython.display import IFrame\n",
    "IFrame('//voyant-tools.org/tool/CollocatesGraph/?stopList=keywords-c9ca6955f1b8688e84744b153908b15f&query=migrant&query=migration&query=border&mode=corpus&corpus=1a52cb2a7564573e7811be2fcab33171', width=300, height=300)"
   ]
  },
  {
   "cell_type": "markdown",
   "metadata": {},
   "source": [
    "### Comments:\n",
    "- Here, I've embedded the Links tool and the corpus includes all the tweets present in our extracted dataset.\n",
    "- Links tool shows the Collocates Graph which represents - as a network - pairs of words that occur in close proximity to each other.\n",
    "- We can see some interesting edges here that we would expect. For example 'border' is connected with 'patrol' and 'agents'; 'migrant' has collocated such as 'thousands', 'families', 'caravan' etc. And 'migration' with 'crisis', 'eu' etc.\n",
    "- Since the dataset was collected from Twitter using the keyword search on <i>migrant</i> and <i>migration</i>, this default Collocates Graph is very intuitive and gives us the context in which the Twitter users talk about certain topics.\n"
   ]
  },
  {
   "cell_type": "markdown",
   "metadata": {},
   "source": [
    "# Section 3:"
   ]
  },
  {
   "cell_type": "code",
   "execution_count": 4,
   "metadata": {},
   "outputs": [
    {
     "name": "stdout",
     "output_type": "stream",
     "text": [
      "There are 123524 tweets.\n"
     ]
    }
   ],
   "source": [
    "# Generate term frequency graph from the tweet text:\n",
    "tweets = df['text'].tolist()\n",
    "print(\"There are\", len(tweets), \"tweets.\")"
   ]
  },
  {
   "cell_type": "code",
   "execution_count": 5,
   "metadata": {},
   "outputs": [
    {
     "name": "stdout",
     "output_type": "stream",
     "text": [
      "4 languages + custom stopwords, we have a total of 855 stopwords.\n"
     ]
    }
   ],
   "source": [
    "# Load stopwords for four languages:\n",
    "languages = ['english', 'french', 'german', 'spanish']\n",
    "\n",
    "STOPWORDS = []\n",
    "for lang in languages:\n",
    "    STOPWORDS.extend(stopwords.words(lang))\n",
    "\n",
    "# Add some custom stopwords:\n",
    "custom_stopwords = [\"amp\", \"n't\", \"rt\"]\n",
    "\n",
    "STOPWORDS.extend(custom_stopwords)\n",
    "print(\"4 languages + custom stopwords, we have a total of {} stopwords.\".format(len(STOPWORDS)))"
   ]
  },
  {
   "cell_type": "code",
   "execution_count": 6,
   "metadata": {},
   "outputs": [
    {
     "name": "stdout",
     "output_type": "stream",
     "text": [
      "There are a total of 2351687 word tokens.\n"
     ]
    }
   ],
   "source": [
    "all_words = [] # list to store all the words in our corpus\n",
    "\n",
    "for tweet in tweets:\n",
    "    words = word_tokenize(tweet) # tokenize the tweet text\n",
    "    \n",
    "    for w in words:\n",
    "        word = w.lower() # change to lowercase\n",
    "            \n",
    "        if word[0].isalpha() and word not in STOPWORDS: # skip non-words and skip stopwords\n",
    "            all_words.append(word)\n",
    "\n",
    "print(\"There are a total of {} word tokens.\".format(len(all_words)))"
   ]
  },
  {
   "cell_type": "code",
   "execution_count": 7,
   "metadata": {},
   "outputs": [
    {
     "name": "stdout",
     "output_type": "stream",
     "text": [
      "[('https', 107479), ('migrant', 64977), ('migration', 41411), ('border', 20936), ('children', 19814)]\n"
     ]
    }
   ],
   "source": [
    "word_freq = FreqDist(all_words) # Calculates the frequency of each word\n",
    "print(word_freq.most_common(5)) # 5 most frequent words:"
   ]
  },
  {
   "cell_type": "code",
   "execution_count": 8,
   "metadata": {},
   "outputs": [
    {
     "data": {
      "image/png": "[encoded data removed]",
      "text/plain": [
       "<Figure size 432x288 with 1 Axes>"
      ]
     },
     "metadata": {
      "needs_background": "light"
     },
     "output_type": "display_data"
    }
   ],
   "source": [
    "# Plot the term frequency graph:\n",
    "word_freq.plot(25, title=\"Top Frequency Words in Tweets about migration\")"
   ]
  },
  {
   "cell_type": "markdown",
   "metadata": {},
   "source": [
    "### Comments:\n",
    "- We can see that the Zipf's law holds here. The word frequency of the second most common word 'migrant' is roughly half of the word frequency of the most common word 'https'. On a side note, \"https\" could also be added to the custom_stopwords list.\n",
    "- A very high frequency of https implies that a big chunk of tweets involve/share a URL link.\n",
    "- 'migrant' and 'migration' being the next two commmon isn't a surprise since the Twitter dataset was calculated based on these keywords!\n",
    "- An interesting thing to note here is that the top frequency words appearing in tweets about migration include words like 'border', 'Trump', 'US', 'families' since a majoirty of the tweets in our dataset were from the US and UK.\n",
    "- Another parallel analysis (not shown here) revealed that #BuildTheWall was the second most commonly tweeted hashtag in our dataset (after #migration).\n",
    "\n",
    "# fin."
   ]
  }
 ],
 "metadata": {
  "kernelspec": {
   "display_name": "Python [conda env:py37]",
   "language": "python",
   "name": "conda-env-py37-py"
  },
  "language_info": {
   "codemirror_mode": {
    "name": "ipython",
    "version": 3
   },
   "file_extension": ".py",
   "mimetype": "text/x-python",
   "name": "python",
   "nbconvert_exporter": "python",
   "pygments_lexer": "ipython3",
   "version": "3.7.2"
  }
 },
 "nbformat": 4,
 "nbformat_minor": 2
}
