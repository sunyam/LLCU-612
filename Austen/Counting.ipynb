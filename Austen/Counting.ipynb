{
 "cells": [
  {
   "cell_type": "markdown",
   "metadata": {},
   "source": [
    "### Count 'em words:\n",
    "- The objective of this notebook is to count words in a few texts from Jane Austen."
   ]
  },
  {
   "cell_type": "code",
   "execution_count": 1,
   "metadata": {
    "collapsed": true
   },
   "outputs": [],
   "source": [
    "# Imports:\n",
    "import os\n",
    "import re\n",
    "from nltk.corpus import stopwords\n",
    "from collections import defaultdict"
   ]
  },
  {
   "cell_type": "code",
   "execution_count": 2,
   "metadata": {},
   "outputs": [
    {
     "name": "stdout",
     "output_type": "stream",
     "text": [
      "['1790 Love And Freindship.txt', '1805 Lady Susan.txt', '1811 Sense and Sensibility.txt', '1813 Pride and Prejudice.txt', '1814 Mansfield Park.txt', '1815 Emma.txt', '1818 Northanger Abbey.txt', '1818 Persuasion.txt']\n"
     ]
    }
   ],
   "source": [
    "path = './austen/'\n",
    "fnames = os.listdir(path)\n",
    "print(fnames)"
   ]
  },
  {
   "cell_type": "code",
   "execution_count": 3,
   "metadata": {},
   "outputs": [
    {
     "data": {
      "text/plain": [
       "{'love': 554, 'freindship': 18, 'early': 198, 'works': 15, 'friendship': 113}"
      ]
     },
     "execution_count": 3,
     "metadata": {},
     "output_type": "execute_result"
    }
   ],
   "source": [
    "word_count = defaultdict(int) # Initialise a dictionary where the default value for a new key is 0.\n",
    "\n",
    "stop = stopwords.words('english') # English stopwords from NLTK\n",
    "\n",
    "for fname in fnames:\n",
    "    with open(path+fname, 'r') as f:\n",
    "        content = f.read().splitlines() # Read and split the contents of 'fname' into lines\n",
    "        \n",
    "    for line in content:\n",
    "        words = line.split() # Split the line into words (based on whitespace only)\n",
    "        for word in words:\n",
    "            word = word.lower() # Lowercase\n",
    "            word = re.sub('[^a-zA-Z0-9]', '', word) # Remove non-word characters\n",
    "            if word not in stop: # Remove stopwords\n",
    "                word_count[word] += 1 # Increment the word count as you see the word (Note: default value is 0)\n",
    "            \n",
    "dict(list(word_count.items())[:5]) # print preview"
   ]
  },
  {
   "cell_type": "code",
   "execution_count": 4,
   "metadata": {},
   "outputs": [
    {
     "data": {
      "text/plain": [
       "[('could', 3743),\n",
       " ('would', 3387),\n",
       " ('mr', 3071),\n",
       " ('mrs', 2508),\n",
       " ('must', 2238),\n",
       " ('said', 2140),\n",
       " ('much', 2024),\n",
       " ('one', 1958),\n",
       " ('miss', 1926),\n",
       " ('every', 1537)]"
      ]
     },
     "execution_count": 4,
     "metadata": {},
     "output_type": "execute_result"
    }
   ],
   "source": [
    "# Sort a dictionary by value (counts): https://stackoverflow.com/questions/613183/how-do-i-sort-a-dictionary-by-value\n",
    "sorted_word_counts = sorted(word_count.items(), key=lambda kv: kv[1], reverse=True)\n",
    "sorted_word_counts[:10] # preview 10 most frequent words"
   ]
  },
  {
   "cell_type": "markdown",
   "metadata": {},
   "source": [
    "### Reflections:\n",
    "To make sure the word counts make sense (and match Voyant's), I had to take care of 3 things:\n",
    "- Remove any non-word characters because .split() is not capable of tokenizing into words. It had '(love' as a word which I took care of using regular expressions. Note that I did not use \\W because I also wanted to remove underscore.\n",
    "- Make the word lowercase because 'LOVE' and 'love' is the same thing.\n",
    "- Remove stopwords like the, a, an etc. (imported from NLTK)\n",
    "\n",
    "Conclusion: The output counts are still off (by a really small margin) and do not match Voyant's. Using nltk's word_tokenize or a more complex regular expression would definitely fix that."
   ]
  }
 ],
 "metadata": {
  "kernelspec": {
   "display_name": "Python [conda env:py37]",
   "language": "python",
   "name": "conda-env-py37-py"
  },
  "language_info": {
   "codemirror_mode": {
    "name": "ipython",
    "version": 3
   },
   "file_extension": ".py",
   "mimetype": "text/x-python",
   "name": "python",
   "nbconvert_exporter": "python",
   "pygments_lexer": "ipython3",
   "version": "3.7.2"
  }
 },
 "nbformat": 4,
 "nbformat_minor": 2
}
